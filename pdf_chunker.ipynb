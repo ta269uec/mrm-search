{
 "cells": [
  {
   "cell_type": "markdown",
   "id": "27fe76d7-16ad-4bba-885d-ff7c02f5bdbb",
   "metadata": {},
   "source": [
    "# Search Pipeline\n",
    "\n",
    "Offline Pipeline: Pipeline to create index\n",
    "\n",
    "\n",
    "Parse PDF -> Chunk it to form docs -> Initialize Sentence Embedder and Chroma DB -> set up chroma vector store by providing sentence embedder as default embedder -> embed all documents -> save to disk chroma db.\n",
    "\n",
    "Online Pipeline: Search Engine\n",
    "\n",
    "Instantiate chroma db and load from disk to memory. -> Instantiate search engine retriever -> Query and answer."
   ]
  },
  {
   "cell_type": "markdown",
   "id": "b2dc6906-fa74-4645-a22e-5db3d51e5e76",
   "metadata": {},
   "source": [
    "# Setup"
   ]
  },
  {
   "cell_type": "code",
   "execution_count": 1,
   "id": "ba51aab4-a25e-4ab1-a0ce-f68d012c7281",
   "metadata": {},
   "outputs": [],
   "source": [
    "# First build a conda environment called unstructured. Initialize with python=3.8 and install langchain followed by instructions below for unstructured\n",
    "# https://python.langchain.com/en/latest/modules/indexes/document_loaders/examples/unstructured_file.html\n",
    "# https://python.langchain.com/en/latest/ecosystem/unstructured.html"
   ]
  },
  {
   "cell_type": "code",
   "execution_count": 6,
   "id": "80f3b0e0-18f6-42f0-b7b7-906256c51c48",
   "metadata": {},
   "outputs": [],
   "source": [
    "import pickle\n",
    "\n",
    "from langchain.document_loaders import UnstructuredPDFLoader, OnlinePDFLoader\n",
    "from langchain.text_splitter import RecursiveCharacterTextSplitter"
   ]
  },
  {
   "cell_type": "markdown",
   "id": "e4a01f9b-b110-4f98-b1c2-d916fdfac69b",
   "metadata": {},
   "source": [
    "# Doc Builder"
   ]
  },
  {
   "cell_type": "markdown",
   "id": "6cecd790-7283-4aab-b9bf-387a98acca48",
   "metadata": {},
   "source": [
    "## Parse and Chunk to create docs"
   ]
  },
  {
   "cell_type": "code",
   "execution_count": 3,
   "id": "4776ed4e-21ec-4254-9a89-e0ce88fc5606",
   "metadata": {},
   "outputs": [],
   "source": [
    "PDF_FILE_NAME = \"Data/pub-ch-model-risk.pdf\""
   ]
  },
  {
   "cell_type": "code",
   "execution_count": 4,
   "id": "2bf252e4-7d96-4bdb-ad3f-067c30370edf",
   "metadata": {},
   "outputs": [],
   "source": [
    "data = UnstructuredPDFLoader(PDF_FILE_NAME).load()\n",
    "docs = RecursiveCharacterTextSplitter(chunk_size=1000, chunk_overlap=0).split_documents(data)"
   ]
  },
  {
   "cell_type": "markdown",
   "id": "baeb1176-95d2-4ee4-a9f3-fa0227dd72c4",
   "metadata": {},
   "source": [
    "## Pickle the docs"
   ]
  },
  {
   "cell_type": "code",
   "execution_count": 7,
   "id": "e8ee9db8-c8f8-40ab-9d30-79d3c96adb32",
   "metadata": {},
   "outputs": [],
   "source": [
    "with open(\"Data/dataset.pk\", \"wb\") as fd:\n",
    "    pickle.dump(docs, fd)"
   ]
  },
  {
   "cell_type": "code",
   "execution_count": 8,
   "id": "fe5de6a8-fa99-488b-b22a-1bb9614409c7",
   "metadata": {},
   "outputs": [
    {
     "name": "stdout",
     "output_type": "stream",
     "text": [
      "348\n"
     ]
    }
   ],
   "source": [
    "with open(\"Data/dataset.pk\", \"rb\") as fd:\n",
    "    docs = pickle.load(fd)\n",
    "    print(len(docs))"
   ]
  }
 ],
 "metadata": {
  "kernelspec": {
   "display_name": "Python 3",
   "language": "python",
   "name": "python3"
  },
  "language_info": {
   "codemirror_mode": {
    "name": "ipython",
    "version": 3
   },
   "file_extension": ".py",
   "mimetype": "text/x-python",
   "name": "python",
   "nbconvert_exporter": "python",
   "pygments_lexer": "ipython3",
   "version": "3.8.16"
  }
 },
 "nbformat": 4,
 "nbformat_minor": 5
}
