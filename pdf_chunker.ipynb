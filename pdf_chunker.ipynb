{
 "cells": [
  {
   "cell_type": "code",
   "execution_count": 1,
   "id": "d07ba610-d31f-4845-8662-c6ff2971c477",
   "metadata": {},
   "outputs": [],
   "source": [
    "from langchain.document_loaders import UnstructuredPDFLoader, OnlinePDFLoader\n",
    "from langchain.text_splitter import RecursiveCharacterTextSplitter"
   ]
  },
  {
   "cell_type": "markdown",
   "id": "e4a01f9b-b110-4f98-b1c2-d916fdfac69b",
   "metadata": {},
   "source": [
    "# Load your data"
   ]
  },
  {
   "cell_type": "code",
   "execution_count": 2,
   "id": "2bf252e4-7d96-4bdb-ad3f-067c30370edf",
   "metadata": {},
   "outputs": [],
   "source": [
    "loader = UnstructuredPDFLoader(\"Data/pub-ch-model-risk.pdf\")"
   ]
  },
  {
   "cell_type": "code",
   "execution_count": 3,
   "id": "9c683e86-8b45-423c-8863-69ec8c1edbce",
   "metadata": {},
   "outputs": [],
   "source": [
    "data = loader.load()"
   ]
  },
  {
   "cell_type": "code",
   "execution_count": 4,
   "id": "800ba3a3-dbec-417f-a487-e8e5ad189adc",
   "metadata": {},
   "outputs": [
    {
     "name": "stdout",
     "output_type": "stream",
     "text": [
      "You have 1 document(s) in your data\n",
      "There are 270248 characters in your document\n"
     ]
    }
   ],
   "source": [
    "print (f'You have {len(data)} document(s) in your data')\n",
    "print (f'There are {len(data[0].page_content)} characters in your document')"
   ]
  },
  {
   "cell_type": "markdown",
   "id": "685d9527-3d68-4db4-a317-a56e831f2cfc",
   "metadata": {},
   "source": [
    "# Chunk your data"
   ]
  },
  {
   "cell_type": "code",
   "execution_count": 6,
   "id": "51af8277-a96e-4b11-abdb-9cb7b415a017",
   "metadata": {},
   "outputs": [],
   "source": [
    "text_splitter = RecursiveCharacterTextSplitter(chunk_size=1000, chunk_overlap=0)\n",
    "texts = text_splitter.split_documents(data)"
   ]
  },
  {
   "cell_type": "code",
   "execution_count": 7,
   "id": "17cf68f9-be59-47de-9cc5-daa573723f91",
   "metadata": {},
   "outputs": [
    {
     "name": "stdout",
     "output_type": "stream",
     "text": [
      "Now you have 348 documents\n"
     ]
    }
   ],
   "source": [
    "print (f'Now you have {len(texts)} documents')"
   ]
  },
  {
   "cell_type": "markdown",
   "id": "baeb1176-95d2-4ee4-a9f3-fa0227dd72c4",
   "metadata": {},
   "source": [
    "# Now pickle it"
   ]
  },
  {
   "cell_type": "code",
   "execution_count": 11,
   "id": "ff1e49f3-864d-44ba-9a52-ef2f2b423130",
   "metadata": {},
   "outputs": [],
   "source": [
    "import pickle"
   ]
  },
  {
   "cell_type": "code",
   "execution_count": 12,
   "id": "e8ee9db8-c8f8-40ab-9d30-79d3c96adb32",
   "metadata": {},
   "outputs": [],
   "source": [
    "with open(\"Data/dataset.pk\", \"wb\") as fd:\n",
    "    pickle.dump(texts, fd)"
   ]
  },
  {
   "cell_type": "code",
   "execution_count": 13,
   "id": "fe5de6a8-fa99-488b-b22a-1bb9614409c7",
   "metadata": {},
   "outputs": [
    {
     "name": "stdout",
     "output_type": "stream",
     "text": [
      "348\n"
     ]
    }
   ],
   "source": [
    "with open(\"Data/dataset.pk\", \"rb\") as fd:\n",
    "    ds = pickle.load(fd)\n",
    "    print(len(ds))"
   ]
  },
  {
   "cell_type": "code",
   "execution_count": 14,
   "id": "5447c5bc-a2c7-47ad-8bd6-1dab00abd762",
   "metadata": {},
   "outputs": [],
   "source": [
    "t = texts[0]"
   ]
  },
  {
   "cell_type": "code",
   "execution_count": 15,
   "id": "23f236c2-3488-4ede-8d5f-504fe4ad244d",
   "metadata": {},
   "outputs": [
    {
     "data": {
      "text/plain": [
       "['Config',\n",
       " '__abstractmethods__',\n",
       " '__annotations__',\n",
       " '__class__',\n",
       " '__class_vars__',\n",
       " '__config__',\n",
       " '__custom_root_type__',\n",
       " '__delattr__',\n",
       " '__dict__',\n",
       " '__dir__',\n",
       " '__doc__',\n",
       " '__eq__',\n",
       " '__exclude_fields__',\n",
       " '__fields__',\n",
       " '__fields_set__',\n",
       " '__format__',\n",
       " '__ge__',\n",
       " '__get_validators__',\n",
       " '__getattribute__',\n",
       " '__getstate__',\n",
       " '__gt__',\n",
       " '__hash__',\n",
       " '__include_fields__',\n",
       " '__init__',\n",
       " '__init_subclass__',\n",
       " '__iter__',\n",
       " '__json_encoder__',\n",
       " '__le__',\n",
       " '__lt__',\n",
       " '__module__',\n",
       " '__ne__',\n",
       " '__new__',\n",
       " '__post_root_validators__',\n",
       " '__pre_root_validators__',\n",
       " '__pretty__',\n",
       " '__private_attributes__',\n",
       " '__reduce__',\n",
       " '__reduce_ex__',\n",
       " '__repr__',\n",
       " '__repr_args__',\n",
       " '__repr_name__',\n",
       " '__repr_str__',\n",
       " '__rich_repr__',\n",
       " '__schema_cache__',\n",
       " '__setattr__',\n",
       " '__setstate__',\n",
       " '__signature__',\n",
       " '__sizeof__',\n",
       " '__slots__',\n",
       " '__str__',\n",
       " '__subclasshook__',\n",
       " '__try_update_forward_refs__',\n",
       " '__validators__',\n",
       " '_abc_impl',\n",
       " '_calculate_keys',\n",
       " '_copy_and_set_values',\n",
       " '_decompose_class',\n",
       " '_enforce_dict_if_root',\n",
       " '_get_value',\n",
       " '_init_private_attributes',\n",
       " '_iter',\n",
       " 'construct',\n",
       " 'copy',\n",
       " 'dict',\n",
       " 'from_orm',\n",
       " 'json',\n",
       " 'metadata',\n",
       " 'page_content',\n",
       " 'parse_file',\n",
       " 'parse_obj',\n",
       " 'parse_raw',\n",
       " 'schema',\n",
       " 'schema_json',\n",
       " 'update_forward_refs',\n",
       " 'validate']"
      ]
     },
     "execution_count": 15,
     "metadata": {},
     "output_type": "execute_result"
    }
   ],
   "source": [
    "dir(t)"
   ]
  },
  {
   "cell_type": "code",
   "execution_count": 17,
   "id": "13db7539-26b2-4e1a-a66c-988798e9da30",
   "metadata": {},
   "outputs": [
    {
     "data": {
      "text/plain": [
       "'Comptroller’s Handbook Safety and Soundness Capital Asset Sensitivity to Other Adequacy Quality Management Earnings Liquidity Market Risk Activities (C) (A) (M) (E) (L) (S) (O) Model Risk Management Version 1.0, August 2021\\n\\nComptroller’s Handbook Safety and Soundness Capital Asset Sensitivity to Other Adequacy Quality Management Earnings Liquidity Market Risk Activities (C) (A) (M) (E) (L) (S) (O)\\n\\nVersion 1.0, August 2021\\n\\n\\n\\nBackground ...................................................................................................................\\n\\nRisks Associated With the Use of Models ....................................................................\\n\\nStrategic Risk ..........................................................................................................\\n\\nOperational Risk .....................................................................................................'"
      ]
     },
     "execution_count": 17,
     "metadata": {},
     "output_type": "execute_result"
    }
   ],
   "source": [
    "t.page_content"
   ]
  },
  {
   "cell_type": "code",
   "execution_count": null,
   "id": "e9684895-db8b-4519-895d-b15e3cccf6b7",
   "metadata": {},
   "outputs": [],
   "source": []
  }
 ],
 "metadata": {
  "kernelspec": {
   "display_name": "Python 3",
   "language": "python",
   "name": "python3"
  },
  "language_info": {
   "codemirror_mode": {
    "name": "ipython",
    "version": 3
   },
   "file_extension": ".py",
   "mimetype": "text/x-python",
   "name": "python",
   "nbconvert_exporter": "python",
   "pygments_lexer": "ipython3",
   "version": "3.8.16"
  }
 },
 "nbformat": 4,
 "nbformat_minor": 5
}
